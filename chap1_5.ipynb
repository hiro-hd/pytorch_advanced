{
  "nbformat": 4,
  "nbformat_minor": 0,
  "metadata": {
    "colab": {
      "name": "chap1_5.ipynb",
      "provenance": [],
      "collapsed_sections": [],
      "include_colab_link": true
    },
    "kernelspec": {
      "name": "python3",
      "display_name": "Python 3"
    },
    "accelerator": "GPU"
  },
  "cells": [
    {
      "cell_type": "markdown",
      "metadata": {
        "id": "view-in-github",
        "colab_type": "text"
      },
      "source": [
        "<a href=\"https://colab.research.google.com/github/hiro-hd/pytorch_advanced/blob/master/chap1_5.ipynb\" target=\"_parent\"><img src=\"https://colab.research.google.com/assets/colab-badge.svg\" alt=\"Open In Colab\"/></a>"
      ]
    },
    {
      "cell_type": "code",
      "metadata": {
        "id": "wZsbfFVTr5t5",
        "colab_type": "code",
        "outputId": "5ea522ec-f026-4ce0-ef33-10051e8a1fb2",
        "colab": {
          "base_uri": "https://localhost:8080/",
          "height": 122
        }
      },
      "source": [
        "from google.colab import drive\n",
        "drive.mount('/content/drive')"
      ],
      "execution_count": 4,
      "outputs": [
        {
          "output_type": "stream",
          "text": [
            "Go to this URL in a browser: https://accounts.google.com/o/oauth2/auth?client_id=947318989803-6bn6qk8qdgf4n4g3pfee6491hc0brc4i.apps.googleusercontent.com&redirect_uri=urn%3Aietf%3Awg%3Aoauth%3A2.0%3Aoob&scope=email%20https%3A%2F%2Fwww.googleapis.com%2Fauth%2Fdocs.test%20https%3A%2F%2Fwww.googleapis.com%2Fauth%2Fdrive%20https%3A%2F%2Fwww.googleapis.com%2Fauth%2Fdrive.photos.readonly%20https%3A%2F%2Fwww.googleapis.com%2Fauth%2Fpeopleapi.readonly&response_type=code\n",
            "\n",
            "Enter your authorization code:\n",
            "··········\n",
            "Mounted at /content/drive\n"
          ],
          "name": "stdout"
        }
      ]
    },
    {
      "cell_type": "code",
      "metadata": {
        "id": "1CykH2aFr6WE",
        "colab_type": "code",
        "outputId": "9fbd87d3-e7cb-4f2f-a305-abb990e7148c",
        "colab": {
          "base_uri": "https://localhost:8080/",
          "height": 34
        }
      },
      "source": [
        "!ls"
      ],
      "execution_count": 0,
      "outputs": [
        {
          "output_type": "stream",
          "text": [
            "drive  sample_data\n"
          ],
          "name": "stdout"
        }
      ]
    },
    {
      "cell_type": "code",
      "metadata": {
        "id": "LPNwJTEusC6k",
        "colab_type": "code",
        "colab": {}
      },
      "source": [
        "# パッケージのimport\n",
        "import numpy as np\n",
        "import random\n",
        "\n",
        "import torch\n",
        "import torch.nn as nn\n",
        "import torch.optim as optim\n",
        "\n",
        "from torchvision import models\n",
        "\n",
        "from tqdm import tqdm"
      ],
      "execution_count": 0,
      "outputs": []
    },
    {
      "cell_type": "code",
      "metadata": {
        "id": "vFHh_KBrsKMQ",
        "colab_type": "code",
        "colab": {}
      },
      "source": [
        "# 乱数のシードを設定\n",
        "torch.manual_seed(1234)\n",
        "np.random.seed(1234)\n",
        "random.seed(1234)"
      ],
      "execution_count": 0,
      "outputs": []
    },
    {
      "cell_type": "code",
      "metadata": {
        "id": "nYB34-hStEuL",
        "colab_type": "code",
        "outputId": "f0ee2d88-ed7f-4156-c4bb-dc34caa8b08c",
        "colab": {
          "base_uri": "https://localhost:8080/",
          "height": 34
        }
      },
      "source": [
        "!ls /content/drive/\"My Drive\"/pytorch_advanced/1_image_classification/data"
      ],
      "execution_count": 0,
      "outputs": [
        {
          "output_type": "stream",
          "text": [
            "hymenoptera_data  imagenet_class_index.json\n"
          ],
          "name": "stdout"
        }
      ]
    },
    {
      "cell_type": "code",
      "metadata": {
        "id": "lWC5M19JsQ-j",
        "colab_type": "code",
        "colab": {}
      },
      "source": [
        "import sys\n",
        "sys.path\n",
        "\n",
        "sys.path.append(\"/content/drive/My Drive/pytorch_advanced/1_image_classification\")"
      ],
      "execution_count": 0,
      "outputs": []
    },
    {
      "cell_type": "code",
      "metadata": {
        "id": "xkNKFAqjsNNs",
        "colab_type": "code",
        "outputId": "55e25d7a-ccc2-4ea3-de86-36426282ae80",
        "colab": {
          "base_uri": "https://localhost:8080/",
          "height": 71
        }
      },
      "source": [
        "from utils.dataloader_image_classification import ImageTransform, make_datapath_list, HymenopteraDataset\n",
        "\n",
        "# アリとハチの画像へのファイルパスのリストを作成する\n",
        "train_list = make_datapath_list(phase=\"train\")\n",
        "val_list = make_datapath_list(phase=\"val\")"
      ],
      "execution_count": 0,
      "outputs": [
        {
          "output_type": "stream",
          "text": [
            "/content/drive/My Drive/pytorch_advanced/1_image_classification/data/hymenoptera_data/train/**/*.jpg\n",
            "/content/drive/My Drive/pytorch_advanced/1_image_classification/data/hymenoptera_data/val/**/*.jpg\n"
          ],
          "name": "stdout"
        }
      ]
    },
    {
      "cell_type": "code",
      "metadata": {
        "id": "-P6QP8vRHpc1",
        "colab_type": "code",
        "colab": {}
      },
      "source": [
        "size = 224\n",
        "mean = (0.485, 0.456, 0.406)\n",
        "std = (0.229, 0.224, 0.225)\n",
        "train_dataset = HymenopteraDataset(\n",
        "    file_list=train_list, transform=ImageTransform(size, mean, std), phase='train')\n",
        "\n",
        "val_dataset = HymenopteraDataset(\n",
        "    file_list=val_list, transform=ImageTransform(size, mean, std), phase='val')\n",
        "\n",
        "\n",
        "# DataLoaderを作成する\n",
        "batch_size = 32\n",
        "\n",
        "train_dataloader = torch.utils.data.DataLoader(\n",
        "    train_dataset, batch_size=batch_size, shuffle=True)\n",
        "\n",
        "val_dataloader = torch.utils.data.DataLoader(\n",
        "    val_dataset, batch_size=batch_size, shuffle=False)\n",
        "\n",
        "# 辞書オブジェクトにまとめる\n",
        "dataloaders_dict = {\"train\": train_dataloader, \"val\": val_dataloader}"
      ],
      "execution_count": 0,
      "outputs": []
    },
    {
      "cell_type": "code",
      "metadata": {
        "id": "hNHRxD-mtXYg",
        "colab_type": "code",
        "outputId": "bbd70dc7-b077-4c69-ec98-f55abd0aba13",
        "colab": {
          "base_uri": "https://localhost:8080/",
          "height": 34
        }
      },
      "source": [
        "#model\n",
        "\n",
        "use_pretrained = True\n",
        "\n",
        "net = models.vgg16(pretrained=use_pretrained)\n",
        "net.train()\n",
        "\n",
        "print(\"network defined, set to train mode\")"
      ],
      "execution_count": 0,
      "outputs": [
        {
          "output_type": "stream",
          "text": [
            "network defined, set to train mode\n"
          ],
          "name": "stdout"
        }
      ]
    },
    {
      "cell_type": "code",
      "metadata": {
        "id": "HQdoVP4OxajM",
        "colab_type": "code",
        "colab": {}
      },
      "source": [
        "#loss func\n",
        "\n",
        "criterion = nn.CrossEntropyLoss()"
      ],
      "execution_count": 0,
      "outputs": []
    },
    {
      "cell_type": "code",
      "metadata": {
        "id": "HL08RYTVxm4l",
        "colab_type": "code",
        "outputId": "df3bbaf6-78f6-4ef5-8bbe-91c928810596",
        "colab": {
          "base_uri": "https://localhost:8080/",
          "height": 561
        }
      },
      "source": [
        "#optimization/これはモデルに定義される。　optimizerに反映される\n",
        "\n",
        "#パラメータを格納するリスト\n",
        "params_to_update_1 = []\n",
        "params_to_update_2 = []\n",
        "params_to_update_3 = []\n",
        "\n",
        "#パラメータ名\n",
        "update_param_names_1 = [\"features\"]\n",
        "update_param_names_2 = [\"classifier.0.weight\", \"classifier.0.bias\",\n",
        "                        \"classifier.3.weight\", \"classifier.3.bias\"]\n",
        "update_param_names_3 = [\"classifier.6.weight\", \"classifier.6.bias\"]\n",
        "\n",
        "for name, param in net.named_parameters():\n",
        "  if update_param_names_1[0] in name:\n",
        "    param.requires_grad = True\n",
        "    params_to_update_1.append(param)\n",
        "    \n",
        "    print(\"1: \", name)\n",
        "    \n",
        "  elif name in update_param_names_2:\n",
        "    param.requires_grad = True\n",
        "    params_to_update_2.append(param)\n",
        "    \n",
        "    print(\"2: \", name)\n",
        "    \n",
        "  elif name in update_param_names_3:\n",
        "    param.requires_grad = True\n",
        "    params_to_update_3.append(param)\n",
        "    \n",
        "    print(\"3: \", name)\n",
        "    \n",
        "  else:\n",
        "    param.requires_grad = False\n",
        "    \n",
        "    print(\"N/A\")"
      ],
      "execution_count": 0,
      "outputs": [
        {
          "output_type": "stream",
          "text": [
            "1:  features.0.weight\n",
            "1:  features.0.bias\n",
            "1:  features.2.weight\n",
            "1:  features.2.bias\n",
            "1:  features.5.weight\n",
            "1:  features.5.bias\n",
            "1:  features.7.weight\n",
            "1:  features.7.bias\n",
            "1:  features.10.weight\n",
            "1:  features.10.bias\n",
            "1:  features.12.weight\n",
            "1:  features.12.bias\n",
            "1:  features.14.weight\n",
            "1:  features.14.bias\n",
            "1:  features.17.weight\n",
            "1:  features.17.bias\n",
            "1:  features.19.weight\n",
            "1:  features.19.bias\n",
            "1:  features.21.weight\n",
            "1:  features.21.bias\n",
            "1:  features.24.weight\n",
            "1:  features.24.bias\n",
            "1:  features.26.weight\n",
            "1:  features.26.bias\n",
            "1:  features.28.weight\n",
            "1:  features.28.bias\n",
            "2:  classifier.0.weight\n",
            "2:  classifier.0.bias\n",
            "2:  classifier.3.weight\n",
            "2:  classifier.3.bias\n",
            "3:  classifier.6.weight\n",
            "3:  classifier.6.bias\n"
          ],
          "name": "stdout"
        }
      ]
    },
    {
      "cell_type": "code",
      "metadata": {
        "id": "Zm_DjNUTz6R5",
        "colab_type": "code",
        "colab": {}
      },
      "source": [
        "#optimizer\n",
        "optimizer = optim.SGD([\n",
        "    {'params':params_to_update_1, 'lr':1e-4},\n",
        "    {'params':params_to_update_2, 'lr':5e-4},\n",
        "    {'params':params_to_update_3, 'lr':1e-3}\n",
        "], momentum=0.9)"
      ],
      "execution_count": 0,
      "outputs": []
    },
    {
      "cell_type": "markdown",
      "metadata": {
        "id": "l7q9FDurnCU0",
        "colab_type": "text"
      },
      "source": [
        ""
      ]
    },
    {
      "cell_type": "code",
      "metadata": {
        "id": "0GkgkFiY2Xpk",
        "colab_type": "code",
        "colab": {}
      },
      "source": [
        "\n",
        "#function to train the model\n",
        "\n",
        "def train_model(net, dataloaders_dict, criterion, optimizer, num_epochs):\n",
        "  \n",
        "  #GPU\n",
        "  device = torch.device(\"cuda:0\" if torch.cuda.is_available() else \"cpu\")    #cuda:0 これはgpuデバイスの名前\n",
        "  print(\"使用デバイス：　\", device)\n",
        "   \n",
        "  net.to(device)  #load network to GPU\n",
        "  \n",
        "  torch.backends.cudnn.benchmark = True\n",
        "  \n",
        "  \n",
        "  for epoch in range(num_epochs):\n",
        "    print(\"Epoch {}/{}\".format(epoch, num_epochs))\n",
        "    print(\"-\"*10)\n",
        "    \n",
        "    for phase in ['train', 'val']:\n",
        "      if phase=='train':\n",
        "        net.train()\n",
        "      else:\n",
        "        net.eval()\n",
        "      \n",
        "      epoch_loss = 0.0\n",
        "      epoch_corrects = 0\n",
        "      \n",
        "      if (epoch == 0) and (phase == 'train'):  #訓練は省略、何もプリントしないの？\n",
        "        continue\n",
        "      \n",
        "      for inputs, labels in tqdm(dataloaders_dict[phase]):\n",
        "        \n",
        "        inputs = inputs.to(device)\n",
        "        \n",
        "        labels = torch.tensor(labels)\n",
        "        labels = labels.to(device)\n",
        "        \n",
        "        optimizer.zero_grad()\n",
        "        \n",
        "        with torch.set_grad_enabled(phase == 'train'):  #torch.set_grad_enabledとは？\n",
        "          outputs = net(inputs)\n",
        "          loss = criterion(outputs, labels)\n",
        "          _, preds = torch.max(outputs, 1)  #tensor と long tensor?\n",
        "          \n",
        "          if phase == 'train':\n",
        "            loss.backward()\n",
        "            optimizer.step()\n",
        "            \n",
        "          epoch_loss += loss.item() * inputs.size(0)\n",
        "          \n",
        "          epoch_corrects += torch.sum(preds == labels.data)\n",
        "          \n",
        "      epoch_loss = epoch_loss / len(dataloaders_dict[phase].dataset)\n",
        "      epoch_acc = epoch_corrects.double(\n",
        "      ) / len(dataloaders_dict[phase].dataset)\n",
        "      \n",
        "      print('{} Loss: {: 4f} Acc: {: 4f}'.format(\n",
        "      phase, epoch_loss, epoch_acc))\n",
        "     \n",
        "     "
      ],
      "execution_count": 0,
      "outputs": []
    },
    {
      "cell_type": "code",
      "metadata": {
        "id": "AGwCgblm2Ic2",
        "colab_type": "code",
        "outputId": "190ef468-095f-4ef2-a8d5-7c861197cf93",
        "colab": {
          "base_uri": "https://localhost:8080/",
          "height": 343
        }
      },
      "source": [
        "num_epochs = 3\n",
        "train_model(net, dataloaders_dict, criterion, optimizer, num_epochs=num_epochs)"
      ],
      "execution_count": 0,
      "outputs": [
        {
          "output_type": "stream",
          "text": [
            "\r  0%|          | 0/5 [00:00<?, ?it/s]"
          ],
          "name": "stderr"
        },
        {
          "output_type": "stream",
          "text": [
            "使用デバイス：　 cuda:0\n",
            "Epoch 0/3\n",
            "----------\n"
          ],
          "name": "stdout"
        },
        {
          "output_type": "stream",
          "text": [
            "/usr/local/lib/python3.6/dist-packages/ipykernel_launcher.py:33: UserWarning: To copy construct from a tensor, it is recommended to use sourceTensor.clone().detach() or sourceTensor.clone().detach().requires_grad_(True), rather than torch.tensor(sourceTensor).\n",
            "100%|██████████| 5/5 [00:02<00:00,  1.72it/s]\n",
            "  0%|          | 0/8 [00:00<?, ?it/s]"
          ],
          "name": "stderr"
        },
        {
          "output_type": "stream",
          "text": [
            "val Loss:  3.613303 Acc:  0.431373\n",
            "Epoch 1/3\n",
            "----------\n"
          ],
          "name": "stdout"
        },
        {
          "output_type": "stream",
          "text": [
            "100%|██████████| 8/8 [00:09<00:00,  1.09s/it]\n",
            "  0%|          | 0/5 [00:00<?, ?it/s]"
          ],
          "name": "stderr"
        },
        {
          "output_type": "stream",
          "text": [
            "train Loss:  2.186022 Acc:  0.567901\n"
          ],
          "name": "stdout"
        },
        {
          "output_type": "stream",
          "text": [
            "100%|██████████| 5/5 [00:02<00:00,  1.74it/s]\n",
            "  0%|          | 0/8 [00:00<?, ?it/s]"
          ],
          "name": "stderr"
        },
        {
          "output_type": "stream",
          "text": [
            "val Loss:  0.953966 Acc:  0.712418\n",
            "Epoch 2/3\n",
            "----------\n"
          ],
          "name": "stdout"
        },
        {
          "output_type": "stream",
          "text": [
            "100%|██████████| 8/8 [00:09<00:00,  1.09s/it]\n",
            "  0%|          | 0/5 [00:00<?, ?it/s]"
          ],
          "name": "stderr"
        },
        {
          "output_type": "stream",
          "text": [
            "train Loss:  0.603097 Acc:  0.798354\n"
          ],
          "name": "stdout"
        },
        {
          "output_type": "stream",
          "text": [
            "100%|██████████| 5/5 [00:02<00:00,  1.74it/s]"
          ],
          "name": "stderr"
        },
        {
          "output_type": "stream",
          "text": [
            "val Loss:  0.740274 Acc:  0.784314\n"
          ],
          "name": "stdout"
        },
        {
          "output_type": "stream",
          "text": [
            "\n"
          ],
          "name": "stderr"
        }
      ]
    },
    {
      "cell_type": "code",
      "metadata": {
        "id": "aCvMjINzeL02",
        "colab_type": "code",
        "colab": {}
      },
      "source": [
        "save_path = '/content/drive/My Drive/pytorch_advanced/1_image_classification/weights_fine_tuning.pth'\n",
        "torch.save(net.state_dict(), save_path)\n"
      ],
      "execution_count": 0,
      "outputs": []
    },
    {
      "cell_type": "code",
      "metadata": {
        "id": "y_ZeTEv5BvR_",
        "colab_type": "code",
        "outputId": "df86e19e-0409-4df6-86f5-10847607e792",
        "colab": {
          "base_uri": "https://localhost:8080/",
          "height": 85
        }
      },
      "source": [
        "!ls /content/drive/\"My Drive\"/pytorch_advanced/1_image_classification"
      ],
      "execution_count": 5,
      "outputs": [
        {
          "output_type": "stream",
          "text": [
            "1-1_load_vgg.ipynb\t     make_folders_and_data_downloads.ipynb\n",
            "1-3_transfer_learning.ipynb  utils\n",
            "1-5_fine_tuning.ipynb\t     weights_fine_tuning.pth\n",
            "data\n"
          ],
          "name": "stdout"
        }
      ]
    },
    {
      "cell_type": "code",
      "metadata": {
        "id": "_fZ8HihKCPGj",
        "colab_type": "code",
        "colab": {
          "base_uri": "https://localhost:8080/",
          "height": 34
        },
        "outputId": "4ea5006c-4504-4c18-f50e-e87abc200dc3"
      },
      "source": [
        "%cd /content/drive/\"My Drive\"/pytorch_advanced"
      ],
      "execution_count": 10,
      "outputs": [
        {
          "output_type": "stream",
          "text": [
            "/content/drive/My Drive/pytorch_advanced\n"
          ],
          "name": "stdout"
        }
      ]
    },
    {
      "cell_type": "code",
      "metadata": {
        "id": "j9gLMKXoBwLu",
        "colab_type": "code",
        "colab": {
          "base_uri": "https://localhost:8080/",
          "height": 34
        },
        "outputId": "6d087194-4ced-4c2a-e0a3-f9b1bd36e578"
      },
      "source": [
        "!git init"
      ],
      "execution_count": 9,
      "outputs": [
        {
          "output_type": "stream",
          "text": [
            "Reinitialized existing Git repository in /content/.git/\n"
          ],
          "name": "stdout"
        }
      ]
    },
    {
      "cell_type": "code",
      "metadata": {
        "id": "fc3t5_KYCano",
        "colab_type": "code",
        "colab": {}
      },
      "source": [
        "git add "
      ],
      "execution_count": 0,
      "outputs": []
    }
  ]
}